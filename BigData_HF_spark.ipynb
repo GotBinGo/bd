{
 "cells": [
  {
   "cell_type": "code",
   "execution_count": 91,
   "metadata": {},
   "outputs": [],
   "source": [
    "import pandas as pd\n",
    "import numpy as np\n",
    "import matplotlib as matplotlib\n",
    "import matplotlib.pyplot as plt\n",
    "from pyspark import SparkContext\n",
    "from pyspark.sql import SQLContext\n",
    "import pyspark.sql.functions\n",
    "from pyspark.sql.functions import col\n",
    "from pyspark.sql.functions import udf, array\n",
    "from pyspark.sql.functions import count\n",
    "from pyspark.sql.types import IntegerType\n",
    "from pyspark.sql.types import FloatType\n",
    "from datashader.utils import lnglat_to_meters\n",
    "import bokeh.plotting as bp\n",
    "from bokeh.models.tiles import WMTSTileSource\n",
    "import datashader as ds\n",
    "import datashader.transfer_functions as tf\n",
    "from datashader.bokeh_ext import InteractiveImage\n",
    "from datashader.utils import export_image\n",
    "import colorcet as cc\n",
    "import os\n",
    "from bokeh.plotting import figure, show, output_file\n",
    "from bokeh.tile_providers import CARTODBPOSITRON\n"
   ]
  },
  {
   "cell_type": "code",
   "execution_count": 2,
   "metadata": {},
   "outputs": [],
   "source": [
    "sc = SparkContext(appName=\"BigData\")\n",
    "spark = SQLContext (sc)"
   ]
  },
  {
   "cell_type": "code",
   "execution_count": 3,
   "metadata": {},
   "outputs": [],
   "source": [
    "agency = spark.read.option(\"header\", True).option(\"sep\", \",\").csv(\"data/agency.txt\") \n",
    "calendar_dates = spark.read.option(\"header\", True).option(\"sep\", \",\").csv(\"data/calendar_dates.txt\") \n",
    "feed_info = spark.read.option(\"header\", True).option(\"sep\", \",\").csv(\"data/feed_info.txt\") \n",
    "pathways = spark.read.option(\"header\", True).option(\"sep\", \",\").csv(\"data/pathways.txt\")\n",
    "routes = spark.read.option(\"header\", True).option(\"sep\", \",\").csv(\"data/routes.txt\")\n",
    "shapes = spark.read.option(\"header\", True).option(\"sep\", \",\").csv(\"data/shapes.txt\")\n",
    "stop_times = spark.read.option(\"header\", True).option(\"sep\", \",\").csv(\"data/stop_times.txt\") #nagy\n",
    "stops = spark.read.option(\"header\", True).option(\"sep\", \",\").csv(\"data/stops.txt\")\n",
    "trips = spark.read.option(\"header\", True).option(\"sep\", \",\").csv(\"data/trips.txt\")"
   ]
  },
  {
   "cell_type": "code",
   "execution_count": 4,
   "metadata": {},
   "outputs": [],
   "source": [
    "ejszakai = ['M2', 'M4', 'H5', 'H6', 'H8', 'H9',\n",
    "            '6',\n",
    "            '901', '907', '908', '909', '914', '914A',\n",
    "            '916', '918', '922', '923', '930', '931',\n",
    "            '934', '937', '938', '940', '941', '943',\n",
    "            '948', '950', '950A', '956', '963', '964',\n",
    "            '966', '968', '972', '972', '972B', '973',\n",
    "            '979', '979A', '980', '990', '992', '994',\n",
    "            '994', '996', '996A', '998', '999']"
   ]
  },
  {
   "cell_type": "code",
   "execution_count": 5,
   "metadata": {},
   "outputs": [
    {
     "name": "stdout",
     "output_type": "stream",
     "text": [
      "root\n",
      " |-- agency_id: string (nullable = true)\n",
      " |-- agency_name: string (nullable = true)\n",
      " |-- agency_url: string (nullable = true)\n",
      " |-- agency_timezone: string (nullable = true)\n",
      " |-- agency_lang: string (nullable = true)\n",
      " |-- agency_phone: string (nullable = true)\n",
      "\n"
     ]
    }
   ],
   "source": [
    "agency.printSchema()"
   ]
  },
  {
   "cell_type": "code",
   "execution_count": 6,
   "metadata": {},
   "outputs": [
    {
     "name": "stdout",
     "output_type": "stream",
     "text": [
      "+---------+--------+----------------+---------------+----------+--------------------+-----------+----------------+\n",
      "|agency_id|route_id|route_short_name|route_long_name|route_type|          route_desc|route_color|route_text_color|\n",
      "+---------+--------+----------------+---------------+----------+--------------------+-----------+----------------+\n",
      "|      BKK|    3060|               6|           null|         0|Széll Kálmán tér ...|     FFD800|          000000|\n",
      "+---------+--------+----------------+---------------+----------+--------------------+-----------+----------------+\n",
      "\n"
     ]
    }
   ],
   "source": [
    "ejszakai_routes = routes.filter(col(\"route_short_name\").isin(ejszakai))\n",
    "ejszakai_routes.limit(1).show()"
   ]
  },
  {
   "cell_type": "code",
   "execution_count": 7,
   "metadata": {},
   "outputs": [],
   "source": [
    "\n",
    "convert_udf = udf(lambda x: int(x.split(\":\")[0])*60 + int(x.split(\":\")[1]), IntegerType())\n",
    "\n",
    "stop_times = stop_times.withColumn('arrival_time_new', convert_udf(stop_times.arrival_time))\n",
    "\n",
    "#stop_times[\"arrival_time\"] = stop_times[\"arrival_time\"].apply(lambda x: int(x.split(\":\")[0])*60 + int(x.split(\":\")[1]))"
   ]
  },
  {
   "cell_type": "code",
   "execution_count": 10,
   "metadata": {},
   "outputs": [],
   "source": [
    "ejszakai_arrival_time = stop_times.filter(col(\"arrival_time_new\") >= 24*60)"
   ]
  },
  {
   "cell_type": "code",
   "execution_count": 9,
   "metadata": {},
   "outputs": [
    {
     "name": "stdout",
     "output_type": "stream",
     "text": [
      "+--------+-------+----------+-------------+------------+--------+--------+---------------------+-------------+-------------+\n",
      "|route_id|trip_id|service_id|trip_headsign|direction_id|block_id|shape_id|wheelchair_accessible|bikes_allowed|boarding_door|\n",
      "+--------+-------+----------+-------------+------------+--------+--------+---------------------+-------------+-------------+\n",
      "|    2936|   2936|      2936|         2936|        2936|    2936|    2936|                 2936|         2931|         1342|\n",
      "+--------+-------+----------+-------------+------------+--------+--------+---------------------+-------------+-------------+\n",
      "\n"
     ]
    }
   ],
   "source": [
    "ejszakai_routeids = ejszakai_routes.select(\"route_id\").rdd.flatMap(lambda x: x).collect()\n",
    "ejszakai_trips_temp = trips.filter(col(\"route_id\").isin(ejszakai_routeids))\n",
    "ejszakai_arrival_time_tripids = ejszakai_arrival_time.select(\"trip_id\").rdd.flatMap(lambda x: x).collect()\n",
    "ejszakai_trips = ejszakai_trips_temp.filter(col(\"trip_id\").isin(ejszakai_arrival_time_tripids))\n",
    "ejszakai_trips.select([count(c).alias(c) for c in ejszakai_trips.columns]).show()\n",
    "#ejszakai_trips_temp = trips[trips[\"route_id\"].isin(ejszakai_routes[\"route_id\"])]\n",
    "#ejszakai_trips = ejszakai_trips_temp[ejszakai_trips_temp[\"trip_id\"].isin(ejszakai_arrival_time[\"trip_id\"])]\n",
    "#ejszakai_trips.count()\n"
   ]
  },
  {
   "cell_type": "code",
   "execution_count": 11,
   "metadata": {},
   "outputs": [
    {
     "name": "stdout",
     "output_type": "stream",
     "text": [
      "+--------+-----------------+------------+------------+-------------------+---------------+\n",
      "|shape_id|shape_pt_sequence|shape_pt_lat|shape_pt_lon|shape_dist_traveled|count(route_id)|\n",
      "+--------+-----------------+------------+------------+-------------------+---------------+\n",
      "|    1111|           100001|   47.502885|   19.135571|                0.0|             15|\n",
      "|    1111|           100002|   47.502843|   19.135591|                2.0|             15|\n",
      "|    1111|           100003|   47.502754|   19.134754|               66.0|             15|\n",
      "|    1111|           100004|   47.502691|   19.133931|              128.0|             15|\n",
      "|    1111|           100005|   47.502674|   19.133334|              173.0|             15|\n",
      "|    1111|           100006|   47.502653|   19.132850|              209.0|             15|\n",
      "|    1111|           100007|   47.502099|   19.127778|              596.0|             15|\n",
      "|    1111|           100008|   47.501742|   19.124446|              850.0|             15|\n",
      "|    1111|           100009|   47.501518|   19.122428|             1004.0|             15|\n",
      "|    1111|           100010|   47.501294|   19.120698|             1136.0|             15|\n",
      "|    1111|           100011|   47.501288|   19.120589|             1145.0|             15|\n",
      "|    1111|           100012|   47.501178|   19.119636|             1217.0|             15|\n",
      "|    1111|           100013|   47.501124|   19.119291|             1244.0|             15|\n",
      "|    1111|           100014|   47.501097|   19.119105|             1258.0|             15|\n",
      "|    1111|           100015|   47.501043|   19.118826|             1280.0|             15|\n",
      "|    1111|           100016|   47.501051|   19.118839|             1281.0|             15|\n",
      "|    1111|           200002|   47.501043|   19.118826|             1282.0|             15|\n",
      "|    1111|           200003|   47.501020|   19.118731|             1291.0|             15|\n",
      "|    1111|           200004|   47.500921|   19.118266|             1328.0|             15|\n",
      "|    1111|           200005|   47.500751|   19.117483|             1390.0|             15|\n",
      "+--------+-----------------+------------+------------+-------------------+---------------+\n",
      "only showing top 20 rows\n",
      "\n"
     ]
    }
   ],
   "source": [
    "ejszakai_trips_per_shape = ejszakai_trips.groupby('shape_id').agg(count(col(\"route_id\")))\n",
    "ejszakai_trips_per_shape=ejszakai_trips_per_shape.withColumnRenamed(\"route_id\", \"trip_count\")\n",
    "\n",
    "ejszakai_shape_suruseg = shapes.join(ejszakai_trips_per_shape, on='shape_id')\n",
    "ejszakai_shape_suruseg.show()"
   ]
  },
  {
   "cell_type": "code",
   "execution_count": 12,
   "metadata": {},
   "outputs": [
    {
     "data": {
      "text/html": [
       "<div>\n",
       "<style scoped>\n",
       "    .dataframe tbody tr th:only-of-type {\n",
       "        vertical-align: middle;\n",
       "    }\n",
       "\n",
       "    .dataframe tbody tr th {\n",
       "        vertical-align: top;\n",
       "    }\n",
       "\n",
       "    .dataframe thead th {\n",
       "        text-align: right;\n",
       "    }\n",
       "</style>\n",
       "<table border=\"1\" class=\"dataframe\">\n",
       "  <thead>\n",
       "    <tr style=\"text-align: right;\">\n",
       "      <th></th>\n",
       "      <th>shape_id</th>\n",
       "      <th>shape_pt_sequence</th>\n",
       "      <th>shape_pt_lat</th>\n",
       "      <th>shape_pt_lon</th>\n",
       "      <th>shape_dist_traveled</th>\n",
       "      <th>count(route_id)</th>\n",
       "      <th>coord_x</th>\n",
       "      <th>coord_y</th>\n",
       "    </tr>\n",
       "  </thead>\n",
       "  <tbody>\n",
       "    <tr>\n",
       "      <th>0</th>\n",
       "      <td>1111</td>\n",
       "      <td>100001</td>\n",
       "      <td>47.502885</td>\n",
       "      <td>19.135571</td>\n",
       "      <td>0.0</td>\n",
       "      <td>15.0</td>\n",
       "      <td>2.130162e+06</td>\n",
       "      <td>6.024548e+06</td>\n",
       "    </tr>\n",
       "    <tr>\n",
       "      <th>1</th>\n",
       "      <td>1111</td>\n",
       "      <td>100002</td>\n",
       "      <td>47.502843</td>\n",
       "      <td>19.135591</td>\n",
       "      <td>2.0</td>\n",
       "      <td>15.0</td>\n",
       "      <td>2.130164e+06</td>\n",
       "      <td>6.024541e+06</td>\n",
       "    </tr>\n",
       "    <tr>\n",
       "      <th>2</th>\n",
       "      <td>1111</td>\n",
       "      <td>100003</td>\n",
       "      <td>47.502754</td>\n",
       "      <td>19.134754</td>\n",
       "      <td>66.0</td>\n",
       "      <td>15.0</td>\n",
       "      <td>2.130071e+06</td>\n",
       "      <td>6.024526e+06</td>\n",
       "    </tr>\n",
       "    <tr>\n",
       "      <th>3</th>\n",
       "      <td>1111</td>\n",
       "      <td>100004</td>\n",
       "      <td>47.502691</td>\n",
       "      <td>19.133931</td>\n",
       "      <td>128.0</td>\n",
       "      <td>15.0</td>\n",
       "      <td>2.129979e+06</td>\n",
       "      <td>6.024516e+06</td>\n",
       "    </tr>\n",
       "    <tr>\n",
       "      <th>4</th>\n",
       "      <td>1111</td>\n",
       "      <td>100005</td>\n",
       "      <td>47.502674</td>\n",
       "      <td>19.133334</td>\n",
       "      <td>173.0</td>\n",
       "      <td>15.0</td>\n",
       "      <td>2.129913e+06</td>\n",
       "      <td>6.024513e+06</td>\n",
       "    </tr>\n",
       "  </tbody>\n",
       "</table>\n",
       "</div>"
      ],
      "text/plain": [
       "  shape_id shape_pt_sequence shape_pt_lat shape_pt_lon shape_dist_traveled  \\\n",
       "0     1111            100001    47.502885    19.135571                 0.0   \n",
       "1     1111            100002    47.502843    19.135591                 2.0   \n",
       "2     1111            100003    47.502754    19.134754                66.0   \n",
       "3     1111            100004    47.502691    19.133931               128.0   \n",
       "4     1111            100005    47.502674    19.133334               173.0   \n",
       "\n",
       "   count(route_id)       coord_x       coord_y  \n",
       "0             15.0  2.130162e+06  6.024548e+06  \n",
       "1             15.0  2.130164e+06  6.024541e+06  \n",
       "2             15.0  2.130071e+06  6.024526e+06  \n",
       "3             15.0  2.129979e+06  6.024516e+06  \n",
       "4             15.0  2.129913e+06  6.024513e+06  "
      ]
     },
     "execution_count": 12,
     "metadata": {},
     "output_type": "execute_result"
    }
   ],
   "source": [
    "#Ez miért nem megy?\n",
    "ejszakai_shape_suruseg_pandas = ejszakai_shape_suruseg.toPandas()\n",
    "\n",
    "ejszakai_shape_suruseg_pandas['coord_x'], ejszakai_shape_suruseg_pandas['coord_y'] = \\\n",
    "    lnglat_to_meters(np.asarray(list(ejszakai_shape_suruseg_pandas['shape_pt_lon']), dtype='float64'), np.asarray(list(ejszakai_shape_suruseg_pandas['shape_pt_lat']), dtype='float64'))\n",
    "\n",
    "def split_df_by(df, byvar):\n",
    "    df_parts = []\n",
    "    for level, df_part in df.groupby(byvar):\n",
    "        empty = pd.DataFrame([[level if colname == byvar else np.NaN for colname in df.columns]],\n",
    "                             columns=df.columns)\n",
    "        df_parts.append(df_part.append(empty))\n",
    "    return pd.concat(df_parts) \n",
    "\n",
    "ejszakai_shapes = split_df_by(ejszakai_shape_suruseg_pandas, 'shape_id')\n",
    "ejszakai_shapes.head()"
   ]
  },
  {
   "cell_type": "code",
   "execution_count": 15,
   "metadata": {},
   "outputs": [
    {
     "data": {
      "text/html": [
       "\n",
       "    <div class=\"bk-root\">\n",
       "        <a href=\"https://bokeh.pydata.org\" target=\"_blank\" class=\"bk-logo bk-logo-small bk-logo-notebook\"></a>\n",
       "        <span id=\"1001\">Loading BokehJS ...</span>\n",
       "    </div>"
      ]
     },
     "metadata": {},
     "output_type": "display_data"
    },
    {
     "data": {
      "application/javascript": [
       "\n",
       "(function(root) {\n",
       "  function now() {\n",
       "    return new Date();\n",
       "  }\n",
       "\n",
       "  var force = true;\n",
       "\n",
       "  if (typeof (root._bokeh_onload_callbacks) === \"undefined\" || force === true) {\n",
       "    root._bokeh_onload_callbacks = [];\n",
       "    root._bokeh_is_loading = undefined;\n",
       "  }\n",
       "\n",
       "  var JS_MIME_TYPE = 'application/javascript';\n",
       "  var HTML_MIME_TYPE = 'text/html';\n",
       "  var EXEC_MIME_TYPE = 'application/vnd.bokehjs_exec.v0+json';\n",
       "  var CLASS_NAME = 'output_bokeh rendered_html';\n",
       "\n",
       "  /**\n",
       "   * Render data to the DOM node\n",
       "   */\n",
       "  function render(props, node) {\n",
       "    var script = document.createElement(\"script\");\n",
       "    node.appendChild(script);\n",
       "  }\n",
       "\n",
       "  /**\n",
       "   * Handle when an output is cleared or removed\n",
       "   */\n",
       "  function handleClearOutput(event, handle) {\n",
       "    var cell = handle.cell;\n",
       "\n",
       "    var id = cell.output_area._bokeh_element_id;\n",
       "    var server_id = cell.output_area._bokeh_server_id;\n",
       "    // Clean up Bokeh references\n",
       "    if (id != null && id in Bokeh.index) {\n",
       "      Bokeh.index[id].model.document.clear();\n",
       "      delete Bokeh.index[id];\n",
       "    }\n",
       "\n",
       "    if (server_id !== undefined) {\n",
       "      // Clean up Bokeh references\n",
       "      var cmd = \"from bokeh.io.state import curstate; print(curstate().uuid_to_server['\" + server_id + \"'].get_sessions()[0].document.roots[0]._id)\";\n",
       "      cell.notebook.kernel.execute(cmd, {\n",
       "        iopub: {\n",
       "          output: function(msg) {\n",
       "            var id = msg.content.text.trim();\n",
       "            if (id in Bokeh.index) {\n",
       "              Bokeh.index[id].model.document.clear();\n",
       "              delete Bokeh.index[id];\n",
       "            }\n",
       "          }\n",
       "        }\n",
       "      });\n",
       "      // Destroy server and session\n",
       "      var cmd = \"import bokeh.io.notebook as ion; ion.destroy_server('\" + server_id + \"')\";\n",
       "      cell.notebook.kernel.execute(cmd);\n",
       "    }\n",
       "  }\n",
       "\n",
       "  /**\n",
       "   * Handle when a new output is added\n",
       "   */\n",
       "  function handleAddOutput(event, handle) {\n",
       "    var output_area = handle.output_area;\n",
       "    var output = handle.output;\n",
       "\n",
       "    // limit handleAddOutput to display_data with EXEC_MIME_TYPE content only\n",
       "    if ((output.output_type != \"display_data\") || (!output.data.hasOwnProperty(EXEC_MIME_TYPE))) {\n",
       "      return\n",
       "    }\n",
       "\n",
       "    var toinsert = output_area.element.find(\".\" + CLASS_NAME.split(' ')[0]);\n",
       "\n",
       "    if (output.metadata[EXEC_MIME_TYPE][\"id\"] !== undefined) {\n",
       "      toinsert[toinsert.length - 1].firstChild.textContent = output.data[JS_MIME_TYPE];\n",
       "      // store reference to embed id on output_area\n",
       "      output_area._bokeh_element_id = output.metadata[EXEC_MIME_TYPE][\"id\"];\n",
       "    }\n",
       "    if (output.metadata[EXEC_MIME_TYPE][\"server_id\"] !== undefined) {\n",
       "      var bk_div = document.createElement(\"div\");\n",
       "      bk_div.innerHTML = output.data[HTML_MIME_TYPE];\n",
       "      var script_attrs = bk_div.children[0].attributes;\n",
       "      for (var i = 0; i < script_attrs.length; i++) {\n",
       "        toinsert[toinsert.length - 1].firstChild.setAttribute(script_attrs[i].name, script_attrs[i].value);\n",
       "      }\n",
       "      // store reference to server id on output_area\n",
       "      output_area._bokeh_server_id = output.metadata[EXEC_MIME_TYPE][\"server_id\"];\n",
       "    }\n",
       "  }\n",
       "\n",
       "  function register_renderer(events, OutputArea) {\n",
       "\n",
       "    function append_mime(data, metadata, element) {\n",
       "      // create a DOM node to render to\n",
       "      var toinsert = this.create_output_subarea(\n",
       "        metadata,\n",
       "        CLASS_NAME,\n",
       "        EXEC_MIME_TYPE\n",
       "      );\n",
       "      this.keyboard_manager.register_events(toinsert);\n",
       "      // Render to node\n",
       "      var props = {data: data, metadata: metadata[EXEC_MIME_TYPE]};\n",
       "      render(props, toinsert[toinsert.length - 1]);\n",
       "      element.append(toinsert);\n",
       "      return toinsert\n",
       "    }\n",
       "\n",
       "    /* Handle when an output is cleared or removed */\n",
       "    events.on('clear_output.CodeCell', handleClearOutput);\n",
       "    events.on('delete.Cell', handleClearOutput);\n",
       "\n",
       "    /* Handle when a new output is added */\n",
       "    events.on('output_added.OutputArea', handleAddOutput);\n",
       "\n",
       "    /**\n",
       "     * Register the mime type and append_mime function with output_area\n",
       "     */\n",
       "    OutputArea.prototype.register_mime_type(EXEC_MIME_TYPE, append_mime, {\n",
       "      /* Is output safe? */\n",
       "      safe: true,\n",
       "      /* Index of renderer in `output_area.display_order` */\n",
       "      index: 0\n",
       "    });\n",
       "  }\n",
       "\n",
       "  // register the mime type if in Jupyter Notebook environment and previously unregistered\n",
       "  if (root.Jupyter !== undefined) {\n",
       "    var events = require('base/js/events');\n",
       "    var OutputArea = require('notebook/js/outputarea').OutputArea;\n",
       "\n",
       "    if (OutputArea.prototype.mime_types().indexOf(EXEC_MIME_TYPE) == -1) {\n",
       "      register_renderer(events, OutputArea);\n",
       "    }\n",
       "  }\n",
       "\n",
       "  \n",
       "  if (typeof (root._bokeh_timeout) === \"undefined\" || force === true) {\n",
       "    root._bokeh_timeout = Date.now() + 5000;\n",
       "    root._bokeh_failed_load = false;\n",
       "  }\n",
       "\n",
       "  var NB_LOAD_WARNING = {'data': {'text/html':\n",
       "     \"<div style='background-color: #fdd'>\\n\"+\n",
       "     \"<p>\\n\"+\n",
       "     \"BokehJS does not appear to have successfully loaded. If loading BokehJS from CDN, this \\n\"+\n",
       "     \"may be due to a slow or bad network connection. Possible fixes:\\n\"+\n",
       "     \"</p>\\n\"+\n",
       "     \"<ul>\\n\"+\n",
       "     \"<li>re-rerun `output_notebook()` to attempt to load from CDN again, or</li>\\n\"+\n",
       "     \"<li>use INLINE resources instead, as so:</li>\\n\"+\n",
       "     \"</ul>\\n\"+\n",
       "     \"<code>\\n\"+\n",
       "     \"from bokeh.resources import INLINE\\n\"+\n",
       "     \"output_notebook(resources=INLINE)\\n\"+\n",
       "     \"</code>\\n\"+\n",
       "     \"</div>\"}};\n",
       "\n",
       "  function display_loaded() {\n",
       "    var el = document.getElementById(\"1001\");\n",
       "    if (el != null) {\n",
       "      el.textContent = \"BokehJS is loading...\";\n",
       "    }\n",
       "    if (root.Bokeh !== undefined) {\n",
       "      if (el != null) {\n",
       "        el.textContent = \"BokehJS \" + root.Bokeh.version + \" successfully loaded.\";\n",
       "      }\n",
       "    } else if (Date.now() < root._bokeh_timeout) {\n",
       "      setTimeout(display_loaded, 100)\n",
       "    }\n",
       "  }\n",
       "\n",
       "\n",
       "  function run_callbacks() {\n",
       "    try {\n",
       "      root._bokeh_onload_callbacks.forEach(function(callback) { callback() });\n",
       "    }\n",
       "    finally {\n",
       "      delete root._bokeh_onload_callbacks\n",
       "    }\n",
       "    console.info(\"Bokeh: all callbacks have finished\");\n",
       "  }\n",
       "\n",
       "  function load_libs(js_urls, callback) {\n",
       "    root._bokeh_onload_callbacks.push(callback);\n",
       "    if (root._bokeh_is_loading > 0) {\n",
       "      console.log(\"Bokeh: BokehJS is being loaded, scheduling callback at\", now());\n",
       "      return null;\n",
       "    }\n",
       "    if (js_urls == null || js_urls.length === 0) {\n",
       "      run_callbacks();\n",
       "      return null;\n",
       "    }\n",
       "    console.log(\"Bokeh: BokehJS not loaded, scheduling load and callback at\", now());\n",
       "    root._bokeh_is_loading = js_urls.length;\n",
       "    for (var i = 0; i < js_urls.length; i++) {\n",
       "      var url = js_urls[i];\n",
       "      var s = document.createElement('script');\n",
       "      s.src = url;\n",
       "      s.async = false;\n",
       "      s.onreadystatechange = s.onload = function() {\n",
       "        root._bokeh_is_loading--;\n",
       "        if (root._bokeh_is_loading === 0) {\n",
       "          console.log(\"Bokeh: all BokehJS libraries loaded\");\n",
       "          run_callbacks()\n",
       "        }\n",
       "      };\n",
       "      s.onerror = function() {\n",
       "        console.warn(\"failed to load library \" + url);\n",
       "      };\n",
       "      console.log(\"Bokeh: injecting script tag for BokehJS library: \", url);\n",
       "      document.getElementsByTagName(\"head\")[0].appendChild(s);\n",
       "    }\n",
       "  };var element = document.getElementById(\"1001\");\n",
       "  if (element == null) {\n",
       "    console.log(\"Bokeh: ERROR: autoload.js configured with elementid '1001' but no matching script tag was found. \")\n",
       "    return false;\n",
       "  }\n",
       "\n",
       "  var js_urls = [\"https://cdn.pydata.org/bokeh/release/bokeh-1.0.1.min.js\", \"https://cdn.pydata.org/bokeh/release/bokeh-widgets-1.0.1.min.js\", \"https://cdn.pydata.org/bokeh/release/bokeh-tables-1.0.1.min.js\", \"https://cdn.pydata.org/bokeh/release/bokeh-gl-1.0.1.min.js\"];\n",
       "\n",
       "  var inline_js = [\n",
       "    function(Bokeh) {\n",
       "      Bokeh.set_log_level(\"info\");\n",
       "    },\n",
       "    \n",
       "    function(Bokeh) {\n",
       "      \n",
       "    },\n",
       "    function(Bokeh) {\n",
       "      console.log(\"Bokeh: injecting CSS: https://cdn.pydata.org/bokeh/release/bokeh-1.0.1.min.css\");\n",
       "      Bokeh.embed.inject_css(\"https://cdn.pydata.org/bokeh/release/bokeh-1.0.1.min.css\");\n",
       "      console.log(\"Bokeh: injecting CSS: https://cdn.pydata.org/bokeh/release/bokeh-widgets-1.0.1.min.css\");\n",
       "      Bokeh.embed.inject_css(\"https://cdn.pydata.org/bokeh/release/bokeh-widgets-1.0.1.min.css\");\n",
       "      console.log(\"Bokeh: injecting CSS: https://cdn.pydata.org/bokeh/release/bokeh-tables-1.0.1.min.css\");\n",
       "      Bokeh.embed.inject_css(\"https://cdn.pydata.org/bokeh/release/bokeh-tables-1.0.1.min.css\");\n",
       "    }\n",
       "  ];\n",
       "\n",
       "  function run_inline_js() {\n",
       "    \n",
       "    if ((root.Bokeh !== undefined) || (force === true)) {\n",
       "      for (var i = 0; i < inline_js.length; i++) {\n",
       "        inline_js[i].call(root, root.Bokeh);\n",
       "      }if (force === true) {\n",
       "        display_loaded();\n",
       "      }} else if (Date.now() < root._bokeh_timeout) {\n",
       "      setTimeout(run_inline_js, 100);\n",
       "    } else if (!root._bokeh_failed_load) {\n",
       "      console.log(\"Bokeh: BokehJS failed to load within specified timeout.\");\n",
       "      root._bokeh_failed_load = true;\n",
       "    } else if (force !== true) {\n",
       "      var cell = $(document.getElementById(\"1001\")).parents('.cell').data().cell;\n",
       "      cell.output_area.append_execute_result(NB_LOAD_WARNING)\n",
       "    }\n",
       "\n",
       "  }\n",
       "\n",
       "  if (root._bokeh_is_loading === 0) {\n",
       "    console.log(\"Bokeh: BokehJS loaded, going straight to plotting\");\n",
       "    run_inline_js();\n",
       "  } else {\n",
       "    load_libs(js_urls, function() {\n",
       "      console.log(\"Bokeh: BokehJS plotting callback run at\", now());\n",
       "      run_inline_js();\n",
       "    });\n",
       "  }\n",
       "}(window));"
      ],
      "application/vnd.bokehjs_load.v0+json": "\n(function(root) {\n  function now() {\n    return new Date();\n  }\n\n  var force = true;\n\n  if (typeof (root._bokeh_onload_callbacks) === \"undefined\" || force === true) {\n    root._bokeh_onload_callbacks = [];\n    root._bokeh_is_loading = undefined;\n  }\n\n  \n\n  \n  if (typeof (root._bokeh_timeout) === \"undefined\" || force === true) {\n    root._bokeh_timeout = Date.now() + 5000;\n    root._bokeh_failed_load = false;\n  }\n\n  var NB_LOAD_WARNING = {'data': {'text/html':\n     \"<div style='background-color: #fdd'>\\n\"+\n     \"<p>\\n\"+\n     \"BokehJS does not appear to have successfully loaded. If loading BokehJS from CDN, this \\n\"+\n     \"may be due to a slow or bad network connection. Possible fixes:\\n\"+\n     \"</p>\\n\"+\n     \"<ul>\\n\"+\n     \"<li>re-rerun `output_notebook()` to attempt to load from CDN again, or</li>\\n\"+\n     \"<li>use INLINE resources instead, as so:</li>\\n\"+\n     \"</ul>\\n\"+\n     \"<code>\\n\"+\n     \"from bokeh.resources import INLINE\\n\"+\n     \"output_notebook(resources=INLINE)\\n\"+\n     \"</code>\\n\"+\n     \"</div>\"}};\n\n  function display_loaded() {\n    var el = document.getElementById(\"1001\");\n    if (el != null) {\n      el.textContent = \"BokehJS is loading...\";\n    }\n    if (root.Bokeh !== undefined) {\n      if (el != null) {\n        el.textContent = \"BokehJS \" + root.Bokeh.version + \" successfully loaded.\";\n      }\n    } else if (Date.now() < root._bokeh_timeout) {\n      setTimeout(display_loaded, 100)\n    }\n  }\n\n\n  function run_callbacks() {\n    try {\n      root._bokeh_onload_callbacks.forEach(function(callback) { callback() });\n    }\n    finally {\n      delete root._bokeh_onload_callbacks\n    }\n    console.info(\"Bokeh: all callbacks have finished\");\n  }\n\n  function load_libs(js_urls, callback) {\n    root._bokeh_onload_callbacks.push(callback);\n    if (root._bokeh_is_loading > 0) {\n      console.log(\"Bokeh: BokehJS is being loaded, scheduling callback at\", now());\n      return null;\n    }\n    if (js_urls == null || js_urls.length === 0) {\n      run_callbacks();\n      return null;\n    }\n    console.log(\"Bokeh: BokehJS not loaded, scheduling load and callback at\", now());\n    root._bokeh_is_loading = js_urls.length;\n    for (var i = 0; i < js_urls.length; i++) {\n      var url = js_urls[i];\n      var s = document.createElement('script');\n      s.src = url;\n      s.async = false;\n      s.onreadystatechange = s.onload = function() {\n        root._bokeh_is_loading--;\n        if (root._bokeh_is_loading === 0) {\n          console.log(\"Bokeh: all BokehJS libraries loaded\");\n          run_callbacks()\n        }\n      };\n      s.onerror = function() {\n        console.warn(\"failed to load library \" + url);\n      };\n      console.log(\"Bokeh: injecting script tag for BokehJS library: \", url);\n      document.getElementsByTagName(\"head\")[0].appendChild(s);\n    }\n  };var element = document.getElementById(\"1001\");\n  if (element == null) {\n    console.log(\"Bokeh: ERROR: autoload.js configured with elementid '1001' but no matching script tag was found. \")\n    return false;\n  }\n\n  var js_urls = [\"https://cdn.pydata.org/bokeh/release/bokeh-1.0.1.min.js\", \"https://cdn.pydata.org/bokeh/release/bokeh-widgets-1.0.1.min.js\", \"https://cdn.pydata.org/bokeh/release/bokeh-tables-1.0.1.min.js\", \"https://cdn.pydata.org/bokeh/release/bokeh-gl-1.0.1.min.js\"];\n\n  var inline_js = [\n    function(Bokeh) {\n      Bokeh.set_log_level(\"info\");\n    },\n    \n    function(Bokeh) {\n      \n    },\n    function(Bokeh) {\n      console.log(\"Bokeh: injecting CSS: https://cdn.pydata.org/bokeh/release/bokeh-1.0.1.min.css\");\n      Bokeh.embed.inject_css(\"https://cdn.pydata.org/bokeh/release/bokeh-1.0.1.min.css\");\n      console.log(\"Bokeh: injecting CSS: https://cdn.pydata.org/bokeh/release/bokeh-widgets-1.0.1.min.css\");\n      Bokeh.embed.inject_css(\"https://cdn.pydata.org/bokeh/release/bokeh-widgets-1.0.1.min.css\");\n      console.log(\"Bokeh: injecting CSS: https://cdn.pydata.org/bokeh/release/bokeh-tables-1.0.1.min.css\");\n      Bokeh.embed.inject_css(\"https://cdn.pydata.org/bokeh/release/bokeh-tables-1.0.1.min.css\");\n    }\n  ];\n\n  function run_inline_js() {\n    \n    if ((root.Bokeh !== undefined) || (force === true)) {\n      for (var i = 0; i < inline_js.length; i++) {\n        inline_js[i].call(root, root.Bokeh);\n      }if (force === true) {\n        display_loaded();\n      }} else if (Date.now() < root._bokeh_timeout) {\n      setTimeout(run_inline_js, 100);\n    } else if (!root._bokeh_failed_load) {\n      console.log(\"Bokeh: BokehJS failed to load within specified timeout.\");\n      root._bokeh_failed_load = true;\n    } else if (force !== true) {\n      var cell = $(document.getElementById(\"1001\")).parents('.cell').data().cell;\n      cell.output_area.append_execute_result(NB_LOAD_WARNING)\n    }\n\n  }\n\n  if (root._bokeh_is_loading === 0) {\n    console.log(\"Bokeh: BokehJS loaded, going straight to plotting\");\n    run_inline_js();\n  } else {\n    load_libs(js_urls, function() {\n      console.log(\"Bokeh: BokehJS plotting callback run at\", now());\n      run_inline_js();\n    });\n  }\n}(window));"
     },
     "metadata": {},
     "output_type": "display_data"
    },
    {
     "ename": "ValueError",
     "evalue": "specified column not found",
     "output_type": "error",
     "traceback": [
      "\u001b[0;31m---------------------------------------------------------------------------\u001b[0m",
      "\u001b[0;31mValueError\u001b[0m                                Traceback (most recent call last)",
      "\u001b[0;32m<ipython-input-15-cca39759cf69>\u001b[0m in \u001b[0;36m<module>\u001b[0;34m\u001b[0m\n\u001b[1;32m     27\u001b[0m     \u001b[0;32mreturn\u001b[0m \u001b[0mimage\u001b[0m\u001b[0;34m\u001b[0m\u001b[0m\n\u001b[1;32m     28\u001b[0m \u001b[0;34m\u001b[0m\u001b[0m\n\u001b[0;32m---> 29\u001b[0;31m export_image(image_callback(x_range=x_range, y_range=y_range, w=2000, h=2000),\n\u001b[0m\u001b[1;32m     30\u001b[0m              filename=\"BUD_schedule_fire\", background='black')\n\u001b[1;32m     31\u001b[0m \u001b[0mInteractiveImage\u001b[0m\u001b[0;34m(\u001b[0m\u001b[0mp\u001b[0m\u001b[0;34m,\u001b[0m \u001b[0mimage_callback\u001b[0m\u001b[0;34m)\u001b[0m\u001b[0;34m\u001b[0m\u001b[0m\n",
      "\u001b[0;32m<ipython-input-15-cca39759cf69>\u001b[0m in \u001b[0;36mimage_callback\u001b[0;34m(x_range, y_range, w, h, color_fn)\u001b[0m\n\u001b[1;32m     23\u001b[0m \u001b[0;32mdef\u001b[0m \u001b[0mimage_callback\u001b[0m\u001b[0;34m(\u001b[0m\u001b[0mx_range\u001b[0m\u001b[0;34m,\u001b[0m \u001b[0my_range\u001b[0m\u001b[0;34m,\u001b[0m \u001b[0mw\u001b[0m\u001b[0;34m,\u001b[0m \u001b[0mh\u001b[0m\u001b[0;34m,\u001b[0m \u001b[0mcolor_fn\u001b[0m\u001b[0;34m=\u001b[0m\u001b[0mtf\u001b[0m\u001b[0;34m.\u001b[0m\u001b[0mshade\u001b[0m\u001b[0;34m)\u001b[0m\u001b[0;34m:\u001b[0m\u001b[0;34m\u001b[0m\u001b[0m\n\u001b[1;32m     24\u001b[0m     \u001b[0mcvs\u001b[0m \u001b[0;34m=\u001b[0m \u001b[0mds\u001b[0m\u001b[0;34m.\u001b[0m\u001b[0mCanvas\u001b[0m\u001b[0;34m(\u001b[0m\u001b[0mplot_width\u001b[0m\u001b[0;34m=\u001b[0m\u001b[0mw\u001b[0m\u001b[0;34m,\u001b[0m \u001b[0mplot_height\u001b[0m\u001b[0;34m=\u001b[0m\u001b[0mh\u001b[0m\u001b[0;34m,\u001b[0m \u001b[0mx_range\u001b[0m\u001b[0;34m=\u001b[0m\u001b[0mx_range\u001b[0m\u001b[0;34m,\u001b[0m \u001b[0my_range\u001b[0m\u001b[0;34m=\u001b[0m\u001b[0my_range\u001b[0m\u001b[0;34m)\u001b[0m\u001b[0;34m\u001b[0m\u001b[0m\n\u001b[0;32m---> 25\u001b[0;31m     \u001b[0magg\u001b[0m \u001b[0;34m=\u001b[0m \u001b[0mcvs\u001b[0m\u001b[0;34m.\u001b[0m\u001b[0mline\u001b[0m\u001b[0;34m(\u001b[0m\u001b[0mejszakai_shapes\u001b[0m\u001b[0;34m,\u001b[0m \u001b[0;34m'coord_x'\u001b[0m\u001b[0;34m,\u001b[0m \u001b[0;34m'coord_y'\u001b[0m\u001b[0;34m,\u001b[0m \u001b[0magg\u001b[0m\u001b[0;34m=\u001b[0m\u001b[0mds\u001b[0m\u001b[0;34m.\u001b[0m\u001b[0msum\u001b[0m\u001b[0;34m(\u001b[0m\u001b[0;34m'trip_count'\u001b[0m\u001b[0;34m)\u001b[0m\u001b[0;34m)\u001b[0m\u001b[0;34m\u001b[0m\u001b[0m\n\u001b[0m\u001b[1;32m     26\u001b[0m     \u001b[0mimage\u001b[0m \u001b[0;34m=\u001b[0m \u001b[0mtf\u001b[0m\u001b[0;34m.\u001b[0m\u001b[0mshade\u001b[0m\u001b[0;34m(\u001b[0m\u001b[0magg\u001b[0m\u001b[0;34m,\u001b[0m \u001b[0mcmap\u001b[0m\u001b[0;34m=\u001b[0m\u001b[0mcc\u001b[0m\u001b[0;34m.\u001b[0m\u001b[0mfire\u001b[0m\u001b[0;34m,\u001b[0m \u001b[0mhow\u001b[0m\u001b[0;34m=\u001b[0m\u001b[0;34m'eq_hist'\u001b[0m\u001b[0;34m)\u001b[0m\u001b[0;34m\u001b[0m\u001b[0m\n\u001b[1;32m     27\u001b[0m     \u001b[0;32mreturn\u001b[0m \u001b[0mimage\u001b[0m\u001b[0;34m\u001b[0m\u001b[0m\n",
      "\u001b[0;32m~/anaconda3/lib/python3.6/site-packages/datashader/core.py\u001b[0m in \u001b[0;36mline\u001b[0;34m(self, source, x, y, agg)\u001b[0m\n\u001b[1;32m    185\u001b[0m         \u001b[0;32mif\u001b[0m \u001b[0magg\u001b[0m \u001b[0;32mis\u001b[0m \u001b[0;32mNone\u001b[0m\u001b[0;34m:\u001b[0m\u001b[0;34m\u001b[0m\u001b[0m\n\u001b[1;32m    186\u001b[0m             \u001b[0magg\u001b[0m \u001b[0;34m=\u001b[0m \u001b[0many_rdn\u001b[0m\u001b[0;34m(\u001b[0m\u001b[0;34m)\u001b[0m\u001b[0;34m\u001b[0m\u001b[0m\n\u001b[0;32m--> 187\u001b[0;31m         \u001b[0;32mreturn\u001b[0m \u001b[0mbypixel\u001b[0m\u001b[0;34m(\u001b[0m\u001b[0msource\u001b[0m\u001b[0;34m,\u001b[0m \u001b[0mself\u001b[0m\u001b[0;34m,\u001b[0m \u001b[0mLine\u001b[0m\u001b[0;34m(\u001b[0m\u001b[0mx\u001b[0m\u001b[0;34m,\u001b[0m \u001b[0my\u001b[0m\u001b[0;34m)\u001b[0m\u001b[0;34m,\u001b[0m \u001b[0magg\u001b[0m\u001b[0;34m)\u001b[0m\u001b[0;34m\u001b[0m\u001b[0m\n\u001b[0m\u001b[1;32m    188\u001b[0m \u001b[0;34m\u001b[0m\u001b[0m\n\u001b[1;32m    189\u001b[0m     \u001b[0;31m# TODO re 'untested', below: Consider replacing with e.g. a 3x3\u001b[0m\u001b[0;34m\u001b[0m\u001b[0;34m\u001b[0m\u001b[0m\n",
      "\u001b[0;32m~/anaconda3/lib/python3.6/site-packages/datashader/core.py\u001b[0m in \u001b[0;36mbypixel\u001b[0;34m(source, canvas, glyph, agg)\u001b[0m\n\u001b[1;32m    533\u001b[0m     \u001b[0mschema\u001b[0m \u001b[0;34m=\u001b[0m \u001b[0mdshape\u001b[0m\u001b[0;34m.\u001b[0m\u001b[0mmeasure\u001b[0m\u001b[0;34m\u001b[0m\u001b[0m\n\u001b[1;32m    534\u001b[0m     \u001b[0mglyph\u001b[0m\u001b[0;34m.\u001b[0m\u001b[0mvalidate\u001b[0m\u001b[0;34m(\u001b[0m\u001b[0mschema\u001b[0m\u001b[0;34m)\u001b[0m\u001b[0;34m\u001b[0m\u001b[0m\n\u001b[0;32m--> 535\u001b[0;31m     \u001b[0magg\u001b[0m\u001b[0;34m.\u001b[0m\u001b[0mvalidate\u001b[0m\u001b[0;34m(\u001b[0m\u001b[0mschema\u001b[0m\u001b[0;34m)\u001b[0m\u001b[0;34m\u001b[0m\u001b[0m\n\u001b[0m\u001b[1;32m    536\u001b[0m     \u001b[0mcanvas\u001b[0m\u001b[0;34m.\u001b[0m\u001b[0mvalidate\u001b[0m\u001b[0;34m(\u001b[0m\u001b[0;34m)\u001b[0m\u001b[0;34m\u001b[0m\u001b[0m\n\u001b[1;32m    537\u001b[0m     \u001b[0;32mreturn\u001b[0m \u001b[0mbypixel\u001b[0m\u001b[0;34m.\u001b[0m\u001b[0mpipeline\u001b[0m\u001b[0;34m(\u001b[0m\u001b[0msource\u001b[0m\u001b[0;34m,\u001b[0m \u001b[0mschema\u001b[0m\u001b[0;34m,\u001b[0m \u001b[0mcanvas\u001b[0m\u001b[0;34m,\u001b[0m \u001b[0mglyph\u001b[0m\u001b[0;34m,\u001b[0m \u001b[0magg\u001b[0m\u001b[0;34m)\u001b[0m\u001b[0;34m\u001b[0m\u001b[0m\n",
      "\u001b[0;32m~/anaconda3/lib/python3.6/site-packages/datashader/reductions.py\u001b[0m in \u001b[0;36mvalidate\u001b[0;34m(self, in_dshape)\u001b[0m\n\u001b[1;32m     39\u001b[0m     \u001b[0;32mdef\u001b[0m \u001b[0mvalidate\u001b[0m\u001b[0;34m(\u001b[0m\u001b[0mself\u001b[0m\u001b[0;34m,\u001b[0m \u001b[0min_dshape\u001b[0m\u001b[0;34m)\u001b[0m\u001b[0;34m:\u001b[0m\u001b[0;34m\u001b[0m\u001b[0m\n\u001b[1;32m     40\u001b[0m         \u001b[0;32mif\u001b[0m \u001b[0;32mnot\u001b[0m \u001b[0mself\u001b[0m\u001b[0;34m.\u001b[0m\u001b[0mcolumn\u001b[0m \u001b[0;32min\u001b[0m \u001b[0min_dshape\u001b[0m\u001b[0;34m.\u001b[0m\u001b[0mdict\u001b[0m\u001b[0;34m:\u001b[0m\u001b[0;34m\u001b[0m\u001b[0m\n\u001b[0;32m---> 41\u001b[0;31m             \u001b[0;32mraise\u001b[0m \u001b[0mValueError\u001b[0m\u001b[0;34m(\u001b[0m\u001b[0;34m\"specified column not found\"\u001b[0m\u001b[0;34m)\u001b[0m\u001b[0;34m\u001b[0m\u001b[0m\n\u001b[0m\u001b[1;32m     42\u001b[0m         \u001b[0;32mif\u001b[0m \u001b[0;32mnot\u001b[0m \u001b[0misnumeric\u001b[0m\u001b[0;34m(\u001b[0m\u001b[0min_dshape\u001b[0m\u001b[0;34m.\u001b[0m\u001b[0mmeasure\u001b[0m\u001b[0;34m[\u001b[0m\u001b[0mself\u001b[0m\u001b[0;34m.\u001b[0m\u001b[0mcolumn\u001b[0m\u001b[0;34m]\u001b[0m\u001b[0;34m)\u001b[0m\u001b[0;34m:\u001b[0m\u001b[0;34m\u001b[0m\u001b[0m\n\u001b[1;32m     43\u001b[0m             \u001b[0;32mraise\u001b[0m \u001b[0mValueError\u001b[0m\u001b[0;34m(\u001b[0m\u001b[0;34m\"input must be numeric\"\u001b[0m\u001b[0;34m)\u001b[0m\u001b[0;34m\u001b[0m\u001b[0m\n",
      "\u001b[0;31mValueError\u001b[0m: specified column not found"
     ]
    }
   ],
   "source": [
    "bp.output_notebook()\n",
    "\n",
    "x_range=(2.101e6, 2.155e6)\n",
    "y_range=(5.994e6, 6.052e6)\n",
    "\n",
    "if not os.path.exists('./img'):\n",
    "    os.mkdir('./img')\n",
    "    \n",
    "p = bp.figure(tools='pan,wheel_zoom,reset',\n",
    "              plot_width=int(900),\n",
    "              plot_height=int(900),\n",
    "              x_range=x_range,\n",
    "              y_range=y_range)\n",
    "\n",
    "p.axis.visible = False\n",
    "p.xgrid.grid_line_color = None\n",
    "p.ygrid.grid_line_color = None\n",
    "\n",
    "url = \"https://cartodb-basemaps-b.global.ssl.fastly.net/dark_all/{z}/{x}/{y}.png\"\n",
    "tile_renderer = p.add_tile(WMTSTileSource(url=url))\n",
    "tile_renderer.alpha = 1\n",
    "\n",
    "def image_callback(x_range, y_range, w, h, color_fn=tf.shade):\n",
    "    cvs = ds.Canvas(plot_width=w, plot_height=h, x_range=x_range, y_range=y_range)\n",
    "    agg = cvs.line(ejszakai_shapes, 'coord_x', 'coord_y', agg=ds.sum('trip_count'))\n",
    "    image = tf.shade(agg, cmap=cc.fire, how='eq_hist')\n",
    "    return image\n",
    "\n",
    "export_image(image_callback(x_range=x_range, y_range=y_range, w=2000, h=2000),\n",
    "             filename=\"BUD_schedule_fire\", background='black')\n",
    "InteractiveImage(p, image_callback)"
   ]
  },
  {
   "cell_type": "code",
   "execution_count": null,
   "metadata": {},
   "outputs": [],
   "source": []
  },
  {
   "cell_type": "code",
   "execution_count": null,
   "metadata": {},
   "outputs": [],
   "source": []
  },
  {
   "cell_type": "code",
   "execution_count": 14,
   "metadata": {},
   "outputs": [
    {
     "name": "stdout",
     "output_type": "stream",
     "text": [
      "+------------------+--------+--------------+\n",
      "|        service_id|    date|exception_type|\n",
      "+------------------+--------+--------------+\n",
      "| A9113924SZKP-0011|20181224|             1|\n",
      "|A92244EVVHPKP-0011|20181227|             1|\n",
      "|A92244EVVHPKP-0011|20181228|             1|\n",
      "|B03211EVVHPKM-0011|20181227|             1|\n",
      "|B03211EVVHPKM-0011|20181228|             1|\n",
      "|B03247EVVHPKM-0011|20181227|             1|\n",
      "|B03247EVVHPKM-0011|20181228|             1|\n",
      "|  B05716AHPKP-0011|20181110|             1|\n",
      "|  B05716AHPKP-0011|20181112|             1|\n",
      "|  B05716AHPKP-0011|20181113|             1|\n",
      "+------------------+--------+--------------+\n",
      "\n"
     ]
    }
   ],
   "source": [
    "calendar_dates.limit(10).show()"
   ]
  },
  {
   "cell_type": "code",
   "execution_count": 15,
   "metadata": {},
   "outputs": [
    {
     "name": "stdout",
     "output_type": "stream",
     "text": [
      "+-------------+------------+------------+----------+--------------+-------------------------+\n",
      "|   pathway_id|pathway_type|from_stop_id|to_stop_id|traversal_time|wheelchair_traversal_time|\n",
      "+-------------+------------+------------+----------+--------------+-------------------------+\n",
      "|LM4KF1-LM4KFA|           3|      LM4KF1|    LM4KFA|            30|                       -1|\n",
      "|LM4KF1-LM4KFB|           3|      LM4KF1|    LM4KFB|           150|                       -1|\n",
      "|LM4KF1-LM4KFC|           3|      LM4KF1|    LM4KFC|           150|                       -1|\n",
      "|LM4KF1-LM4KFD|           3|      LM4KF1|    LM4KFD|           180|                       -1|\n",
      "|LM1OPV-F01079|           1|      LM1OPV|    F01079|            30|                       -1|\n",
      "|LM1DF1-F00962|           1|      LM1DF1|    F00962|            30|                       -1|\n",
      "|F01749-LM2OV1|           1|      F01749|    LM2OV1|            30|                       60|\n",
      "|F00937-LM3NY1|           1|      F00937|    LM3NY1|            60|                       -1|\n",
      "|F00937-LM3NY2|           1|      F00937|    LM3NY2|            60|                       -1|\n",
      "|LM3CN1-LM3CNJ|           3|      LM3CN1|    LM3CNJ|            60|                       -1|\n",
      "+-------------+------------+------------+----------+--------------+-------------------------+\n",
      "\n"
     ]
    }
   ],
   "source": [
    "pathways.limit(10).show()"
   ]
  },
  {
   "cell_type": "code",
   "execution_count": 16,
   "metadata": {},
   "outputs": [
    {
     "name": "stdout",
     "output_type": "stream",
     "text": [
      "+---------+--------+----------------+---------------+----------+--------------------+-----------+----------------+\n",
      "|agency_id|route_id|route_short_name|route_long_name|route_type|          route_desc|route_color|route_text_color|\n",
      "+---------+--------+----------------+---------------+----------+--------------------+-----------+----------------+\n",
      "|      BKK|    0050|               5|           null|         3|Pasaréti tér / Rá...|     009FE3|          FFFFFF|\n",
      "|      BKK|    0070|               7|           null|         3|Albertfalva vasút...|     009FE3|          FFFFFF|\n",
      "|      BKK|    0075|              7E|           null|         3|Blaha Lujza tér M...|     009FE3|          FFFFFF|\n",
      "|      BKK|    0078|              7G|           null|         3|Cinkotai autóbusz...|     009FE3|          FFFFFF|\n",
      "|      BKK|    0085|              8E|           null|         3|Kelenföld vasútál...|     009FE3|          FFFFFF|\n",
      "|      BKK|    0090|               9|           null|         3|Óbuda, Bogdáni út...|     009FE3|          FFFFFF|\n",
      "|      BKK|    0100|              10|           null|         3|Örs vezér tere M+...|     009FE3|          FFFFFF|\n",
      "|      BKK|    0110|              11|           null|         3|Batthyány tér M+H...|     009FE3|          FFFFFF|\n",
      "|      BKK|    0130|              13|           null|         3|Budatétény vasútá...|     009FE3|          FFFFFF|\n",
      "|      BKK|    0131|             13A|           null|         3|Budatétény vasútá...|     009FE3|          FFFFFF|\n",
      "+---------+--------+----------------+---------------+----------+--------------------+-----------+----------------+\n",
      "\n"
     ]
    }
   ],
   "source": [
    "routes.limit(10).show()"
   ]
  },
  {
   "cell_type": "code",
   "execution_count": 17,
   "metadata": {},
   "outputs": [
    {
     "name": "stdout",
     "output_type": "stream",
     "text": [
      "+---------+--------+----------------+---------------+----------+--------------------+-----------+----------------+\n",
      "|agency_id|route_id|route_short_name|route_long_name|route_type|          route_desc|route_color|route_text_color|\n",
      "+---------+--------+----------------+---------------+----------+--------------------+-----------+----------------+\n",
      "|      BKK|    9230|             923|           null|         3|Békásmegyer H / D...|     1E1E1E|          FFFFFF|\n",
      "+---------+--------+----------------+---------------+----------+--------------------+-----------+----------------+\n",
      "\n"
     ]
    }
   ],
   "source": [
    "routes[routes.route_short_name == \"923\"].limit(10).show()"
   ]
  },
  {
   "cell_type": "code",
   "execution_count": 18,
   "metadata": {},
   "outputs": [
    {
     "name": "stdout",
     "output_type": "stream",
     "text": [
      "+--------+-----------------+------------+------------+-------------------+\n",
      "|shape_id|shape_pt_sequence|shape_pt_lat|shape_pt_lon|shape_dist_traveled|\n",
      "+--------+-----------------+------------+------------+-------------------+\n",
      "|    0285|           100001|   47.519630|   19.148313|                0.0|\n",
      "|    0285|           100002|   47.519657|   19.148286|                4.0|\n",
      "|    0285|           100003|   47.519839|   19.148638|               35.0|\n",
      "|    0285|           100004|   47.520584|   19.150246|              182.0|\n",
      "|    0285|           100005|   47.520674|   19.150432|              199.0|\n",
      "|    0285|           100006|   47.520727|   19.150486|              206.0|\n",
      "|    0285|           100007|   47.520790|   19.150512|              213.0|\n",
      "|    0285|           100008|   47.520988|   19.150964|              253.0|\n",
      "|    0285|           100009|   47.521320|   19.151695|              319.0|\n",
      "|    0285|           100010|   47.521543|   19.152207|              367.0|\n",
      "|    0285|           100011|   47.521526|   19.152267|              373.0|\n",
      "|    0285|           200002|   47.521543|   19.152207|              379.0|\n",
      "|    0285|           200003|   47.521778|   19.152626|              418.0|\n",
      "|    0285|           200004|   47.522523|   19.154300|              569.0|\n",
      "|    0285|           200005|   47.523259|   19.155869|              713.0|\n",
      "|    0285|           200006|   47.523986|   19.157490|              859.0|\n",
      "|    0285|           200007|   47.524175|   19.157889|              896.0|\n",
      "|    0285|           200008|   47.524121|   19.157942|              903.0|\n",
      "|    0285|           300002|   47.524175|   19.157889|              910.0|\n",
      "|    0285|           300003|   47.524803|   19.159271|             1035.0|\n",
      "+--------+-----------------+------------+------------+-------------------+\n",
      "only showing top 20 rows\n",
      "\n"
     ]
    }
   ],
   "source": [
    "shapes.limit(100).show()"
   ]
  },
  {
   "cell_type": "code",
   "execution_count": 19,
   "metadata": {},
   "outputs": [
    {
     "name": "stdout",
     "output_type": "stream",
     "text": [
      "+---------+-------+------------+--------------+-------------+-------------+-----------+-------------+-------------------+----------------+\n",
      "|  trip_id|stop_id|arrival_time|departure_time|stop_sequence|stop_headsign|pickup_type|drop_off_type|shape_dist_traveled|arrival_time_new|\n",
      "+---------+-------+------------+--------------+-------------+-------------+-----------+-------------+-------------------+----------------+\n",
      "|  A911391| F04272|    04:25:00|      04:25:00|            0|         null|       null|         null|                0.0|             265|\n",
      "|  A911391| F04184|    04:27:00|      04:27:00|            1|         null|       null|         null|              648.0|             267|\n",
      "|  A911391| F04319|    04:29:00|      04:29:00|            2|         null|       null|         null|             1224.0|             269|\n",
      "|  A911391| F04369|    04:32:00|      04:32:00|            3|         null|       null|         null|             2779.0|             272|\n",
      "|  A911391| 008264|    04:36:00|      04:36:00|            4|         null|       null|         null|             5620.0|             276|\n",
      "|  A911391| F01520|    04:38:00|      04:38:00|            5|         null|       null|         null|             6691.0|             278|\n",
      "| A9113910| F01520|    07:21:00|      07:21:00|            0|         null|       null|         null|                0.0|             441|\n",
      "| A9113910| 008263|    07:23:00|      07:23:00|            1|         null|       null|         null|             1168.0|             443|\n",
      "| A9113910| F04368|    07:27:00|      07:27:00|            2|         null|       null|         null|             4013.0|             447|\n",
      "| A9113910| F04322|    07:30:00|      07:30:00|            3|         null|       null|         null|             5601.0|             450|\n",
      "| A9113910| F04183|    07:32:00|      07:32:00|            4|         null|       null|         null|             6036.0|             452|\n",
      "| A9113910| F04272|    07:34:00|      07:34:00|            5|         null|       null|         null|             6690.0|             454|\n",
      "|A91139100| F01520|    13:48:00|      13:48:00|            0|         null|       null|         null|                0.0|             828|\n",
      "|A91139100| 008263|    13:50:00|      13:50:00|            1|         null|       null|         null|             1168.0|             830|\n",
      "|A91139100| F04368|    13:54:00|      13:54:00|            2|         null|       null|         null|             4013.0|             834|\n",
      "|A91139100| F04322|    13:57:00|      13:57:00|            3|         null|       null|         null|             5601.0|             837|\n",
      "|A91139100| F04183|    13:59:00|      13:59:00|            4|         null|       null|         null|             6036.0|             839|\n",
      "|A91139100| F04272|    14:01:00|      14:01:00|            5|         null|       null|         null|             6690.0|             841|\n",
      "|A91139101| F04272|    14:08:00|      14:08:00|            0|         null|       null|         null|                0.0|             848|\n",
      "|A91139101| F04184|    14:10:00|      14:10:00|            1|         null|       null|         null|              648.0|             850|\n",
      "+---------+-------+------------+--------------+-------------+-------------+-----------+-------------+-------------------+----------------+\n",
      "only showing top 20 rows\n",
      "\n"
     ]
    }
   ],
   "source": [
    "stop_times.limit(100).show()"
   ]
  },
  {
   "cell_type": "code",
   "execution_count": 20,
   "metadata": {},
   "outputs": [
    {
     "name": "stdout",
     "output_type": "stream",
     "text": [
      "+---------+-------+------------+--------------+-------------+-------------+-----------+-------------+-------------------+----------------+\n",
      "|  trip_id|stop_id|arrival_time|departure_time|stop_sequence|stop_headsign|pickup_type|drop_off_type|shape_dist_traveled|arrival_time_new|\n",
      "+---------+-------+------------+--------------+-------------+-------------+-----------+-------------+-------------------+----------------+\n",
      "|  A911391| F04272|    04:25:00|      04:25:00|            0|         null|       null|         null|                0.0|             265|\n",
      "| A9113910| F04272|    07:34:00|      07:34:00|            5|         null|       null|         null|             6690.0|             454|\n",
      "|A91139100| F04272|    14:01:00|      14:01:00|            5|         null|       null|         null|             6690.0|             841|\n",
      "|A91139101| F04272|    14:08:00|      14:08:00|            0|         null|       null|         null|                0.0|             848|\n",
      "|A91139102| F04272|    14:41:00|      14:41:00|            5|         null|       null|         null|             6690.0|             881|\n",
      "|A91139103| F04272|    14:48:00|      14:48:00|            0|         null|       null|         null|                0.0|             888|\n",
      "|A91139104| F04272|    15:21:00|      15:21:00|            5|         null|       null|         null|             6690.0|             921|\n",
      "|A91139105| F04272|    15:28:00|      15:28:00|            0|         null|       null|         null|                0.0|             928|\n",
      "|A91139106| F04272|    16:01:00|      16:01:00|            5|         null|       null|         null|             6690.0|             961|\n",
      "|A91139108| F04272|    05:06:00|      05:06:00|            0|         null|       null|         null|                0.0|             306|\n",
      "+---------+-------+------------+--------------+-------------+-------------+-----------+-------------+-------------------+----------------+\n",
      "\n"
     ]
    }
   ],
   "source": [
    "stop_times.filter(stop_times.stop_id == \"F04272\").limit(10).show()"
   ]
  },
  {
   "cell_type": "code",
   "execution_count": 21,
   "metadata": {},
   "outputs": [
    {
     "name": "stdout",
     "output_type": "stream",
     "text": [
      "+-------+--------------------+---------+---------+---------+-------------+--------------+-------------------+--------------+\n",
      "|stop_id|           stop_name| stop_lat| stop_lon|stop_code|location_type|parent_station|wheelchair_boarding|stop_direction|\n",
      "+-------+--------------------+---------+---------+---------+-------------+--------------+-------------------+--------------+\n",
      "| 002133|Örs vezér tere M+...|47.500366|19.135700|     null|         null|          null|                  2|          null|\n",
      "| 002136|   Fogas üzem (kapu)|47.509119|19.014403|     null|         null|          null|               null|          null|\n",
      "| 002138|Kőbánya alsó vasú...|47.483139|19.127891|     null|         null|          null|                  2|          null|\n",
      "| 003002|Puskás Ferenc Sta...|47.500368|19.103406|     null|         null|          null|                  2|          null|\n",
      "| 003105|Bécsi út / Vörösv...|47.548817|19.029722|     null|         null|          null|                  2|          null|\n",
      "| 003106|Örs vezér tere M+...|47.505160|19.136637|     null|         null|          null|                  2|          null|\n",
      "| 003118|   Óbuda, Bogdáni út|47.551471|19.041971|     null|         null|          null|                  2|          null|\n",
      "| 004716|ÉD metró járműtel...|47.469651|19.129090|     null|         null|          null|                  2|          null|\n",
      "| 004948|Metró ÉD járműtel...|47.465239|19.142612|     null|         null|          null|               null|          null|\n",
      "| 004952|Metró KNY járműte...|47.502234|19.132179|     null|         null|          null|               null|          null|\n",
      "+-------+--------------------+---------+---------+---------+-------------+--------------+-------------------+--------------+\n",
      "\n"
     ]
    }
   ],
   "source": [
    "stops.limit(10).show()"
   ]
  },
  {
   "cell_type": "code",
   "execution_count": 24,
   "metadata": {},
   "outputs": [
    {
     "name": "stdout",
     "output_type": "stream",
     "text": [
      "+--------+---------+-------------+\n",
      "|route_id|  trip_id|trip_headsign|\n",
      "+--------+---------+-------------+\n",
      "|    6300|  A911391|Boráros tér H|\n",
      "|    6300| A9113910|       Csepel|\n",
      "|    6300|A91139100|       Csepel|\n",
      "|    6300|A91139101|Boráros tér H|\n",
      "|    6300|A91139102|       Csepel|\n",
      "|    6300|A91139103|Boráros tér H|\n",
      "|    6300|A91139104|       Csepel|\n",
      "|    6300|A91139105|Boráros tér H|\n",
      "|    6300|A91139106|       Csepel|\n",
      "|    6300|A91139108|Boráros tér H|\n",
      "+--------+---------+-------------+\n",
      "\n"
     ]
    }
   ],
   "source": [
    "trips.select(\"route_id\", \"trip_id\", \"trip_headsign\").limit(10).show()"
   ]
  },
  {
   "cell_type": "code",
   "execution_count": 23,
   "metadata": {},
   "outputs": [
    {
     "data": {
      "text/plain": [
       "284187"
      ]
     },
     "execution_count": 23,
     "metadata": {},
     "output_type": "execute_result"
    }
   ],
   "source": [
    "trips.count()"
   ]
  },
  {
   "cell_type": "code",
   "execution_count": 17,
   "metadata": {},
   "outputs": [
    {
     "data": {
      "text/plain": [
       "DataFrame[summary: string, stop_id: string, stop_name: string, stop_lat: string, stop_lon: string, stop_code: string, location_type: string, parent_station: string, wheelchair_boarding: string, stop_direction: string]"
      ]
     },
     "execution_count": 17,
     "metadata": {},
     "output_type": "execute_result"
    }
   ],
   "source": [
    "stops.describe()"
   ]
  },
  {
   "cell_type": "code",
   "execution_count": 31,
   "metadata": {},
   "outputs": [],
   "source": [
    "def intdate(n):\n",
    "    arr = n.split(':')\n",
    "    return int(arr[0])*60*60+int(arr[1])*60+int(arr[2])"
   ]
  },
  {
   "cell_type": "code",
   "execution_count": 32,
   "metadata": {},
   "outputs": [],
   "source": [
    "ll = list(map(intdate, stop_times['arrival_time']))"
   ]
  },
  {
   "cell_type": "code",
   "execution_count": 33,
   "metadata": {},
   "outputs": [
    {
     "data": {
      "text/plain": [
       "(0.0, 29870.0)"
      ]
     },
     "execution_count": 33,
     "metadata": {},
     "output_type": "execute_result"
    },
    {
     "data": {
      "image/png": "[encoded data removed]",
      "text/plain": [
       "<Figure size 432x288 with 1 Axes>"
      ]
     },
     "metadata": {
      "needs_background": "light"
     },
     "output_type": "display_data"
    }
   ],
   "source": [
    "fig, ax = plt.subplots()\n",
    "n, bins, patches = plt.hist(x=ll, bins='auto', color='#0504aa',\n",
    "                            alpha=0.7, rwidth=0.85)\n",
    "plt.grid(axis='y', alpha=0.75)\n",
    "plt.xlabel('Value')\n",
    "plt.ylabel('Frequency')\n",
    "def price(x, n):\n",
    "    ora = x//(60*60)\n",
    "    return int(ora)\n",
    "ax.xaxis.set_major_locator(plt.MaxNLocator(12))\n",
    "\n",
    "ax.xaxis.set_major_formatter(plt.FuncFormatter(price))\n",
    "\n",
    "maxfreq = n.max()\n",
    "# Set a clean upper y-axis limit.\n",
    "plt.ylim(ymax=np.ceil(maxfreq / 10) * 10 if maxfreq % 10 else maxfreq + 10)"
   ]
  },
  {
   "cell_type": "code",
   "execution_count": 104,
   "metadata": {},
   "outputs": [
    {
     "data": {
      "text/plain": [
       "29"
      ]
     },
     "execution_count": 104,
     "metadata": {},
     "output_type": "execute_result"
    }
   ],
   "source": [
    "max(ll)//(60*60)"
   ]
  },
  {
   "cell_type": "code",
   "execution_count": 115,
   "metadata": {
    "scrolled": true
   },
   "outputs": [
    {
     "data": {
      "text/plain": [
       "29"
      ]
     },
     "execution_count": 115,
     "metadata": {},
     "output_type": "execute_result"
    }
   ],
   "source": [
    "def col0(n):\n",
    "    arr = n.split(':')\n",
    "    return int(arr[0])\n",
    "ll = list(map(col0, stop_times['arrival_time']))\n",
    "max(ll)"
   ]
  },
  {
   "cell_type": "code",
   "execution_count": 116,
   "metadata": {},
   "outputs": [
    {
     "data": {
      "text/plain": [
       "59"
      ]
     },
     "execution_count": 116,
     "metadata": {},
     "output_type": "execute_result"
    }
   ],
   "source": [
    "def col0(n):\n",
    "    arr = n.split(':')\n",
    "    return int(arr[1])\n",
    "lll = list(map(col0, stop_times['arrival_time']))\n",
    "max(lll)"
   ]
  },
  {
   "cell_type": "code",
   "execution_count": 14,
   "metadata": {
    "collapsed": true
   },
   "outputs": [
    {
     "data": {
      "text/plain": [
       "['6',\n",
       " 'M2',\n",
       " 'M4',\n",
       " 'H8',\n",
       " 'H8',\n",
       " 'H9',\n",
       " 'H6',\n",
       " 'H6',\n",
       " 'H6',\n",
       " 'H5',\n",
       " 'H5',\n",
       " '901',\n",
       " '907',\n",
       " '908',\n",
       " '909',\n",
       " '914',\n",
       " '914A',\n",
       " '916',\n",
       " '918',\n",
       " '922',\n",
       " '923',\n",
       " '930',\n",
       " '931',\n",
       " '934',\n",
       " '937',\n",
       " '938',\n",
       " '940',\n",
       " '941',\n",
       " '943',\n",
       " '948',\n",
       " '950',\n",
       " '950A',\n",
       " '956',\n",
       " '963',\n",
       " '964',\n",
       " '966',\n",
       " '968',\n",
       " '972',\n",
       " '972B',\n",
       " '973',\n",
       " '979',\n",
       " '979A',\n",
       " '980',\n",
       " '990',\n",
       " '992',\n",
       " '994',\n",
       " '996',\n",
       " '996A',\n",
       " '998',\n",
       " '999',\n",
       " 'H6',\n",
       " '6']"
      ]
     },
     "execution_count": 14,
     "metadata": {},
     "output_type": "execute_result"
    }
   ],
   "source": [
    "(list(routes[routes['route_short_name'].isin(ejszakai)]['route_short_name']))"
   ]
  },
  {
   "cell_type": "code",
   "execution_count": 30,
   "metadata": {},
   "outputs": [
    {
     "name": "stdout",
     "output_type": "stream",
     "text": [
      "+---------+--------+----------------+---------------+----------+--------------------+-----------+----------------+\n",
      "|agency_id|route_id|route_short_name|route_long_name|route_type|          route_desc|route_color|route_text_color|\n",
      "+---------+--------+----------------+---------------+----------+--------------------+-----------+----------------+\n",
      "|      BKK|    9090|             909|           null|         3|Deák Ferenc tér M...|     1E1E1E|          FFFFFF|\n",
      "+---------+--------+----------------+---------------+----------+--------------------+-----------+----------------+\n",
      "\n"
     ]
    }
   ],
   "source": [
    "routes.filter(col(\"route_short_name\") == \"909\").show()"
   ]
  },
  {
   "cell_type": "code",
   "execution_count": 80,
   "metadata": {},
   "outputs": [
    {
     "name": "stdout",
     "output_type": "stream",
     "text": [
      "+------------+-------+------------+\n",
      "|     trip_id|stop_id|arrival_time|\n",
      "+------------+-------+------------+\n",
      "| B6621147801| F01199|    00:13:00|\n",
      "| B7752255127| F01199|    00:13:00|\n",
      "| B6626647801| F01199|    00:13:00|\n",
      "| B8745455127| F01199|    00:13:00|\n",
      "|B76861114960| F01199|    00:13:00|\n",
      "| B7749641585| F01199|    00:13:00|\n",
      "|B87463114960| F01199|    00:13:00|\n",
      "|B89263114960| F01199|    00:13:00|\n",
      "| B8776941585| F01199|    00:13:00|\n",
      "| B8781832740| F01199|    00:13:00|\n",
      "| B7752755127| F01199|    00:13:00|\n",
      "| B7898832740| F01199|    00:13:00|\n",
      "|B86108114960| F01199|    00:13:00|\n",
      "| B8776941591| F01199|    00:23:00|\n",
      "| B7749641591| F01199|    00:23:00|\n",
      "| B7898832752| F01199|    00:23:00|\n",
      "| B8781832752| F01199|    00:23:00|\n",
      "| B8776934682| F01197|    00:24:00|\n",
      "| B7749634682| F01197|    00:24:00|\n",
      "| B8781826517| F01197|    00:24:00|\n",
      "+------------+-------+------------+\n",
      "only showing top 20 rows\n",
      "\n"
     ]
    }
   ],
   "source": [
    "\n",
    "#Egy megallonevhez tartozo megallok\n",
    "stop_ids = stops.filter(col(\"stop_name\").like(\"%Harminckettesek%\")).select(\"stop_id\").rdd.flatMap(lambda x: x).collect()\n",
    "\n",
    "#A stop_ids helyen megálló járművek (a hét minden napja benne van még)\n",
    "stops_week = stop_times.filter(col(\"stop_id\").isin(stop_ids)).select(\"trip_id\", \"stop_id\", \"arrival_time\").sort(\"arrival_time\")\n",
    "\n",
    "stops_week.show()"
   ]
  },
  {
   "cell_type": "code",
   "execution_count": 81,
   "metadata": {},
   "outputs": [
    {
     "name": "stdout",
     "output_type": "stream",
     "text": [
      "+-----------+-------+------------+\n",
      "|    trip_id|stop_id|arrival_time|\n",
      "+-----------+-------+------------+\n",
      "|B6621147801| F01199|    00:13:00|\n",
      "|B6621147795| F01199|    00:33:00|\n",
      "|B6621132695| F01197|    00:34:00|\n",
      "|B6621132692| F01199|    00:43:00|\n",
      "|B6621132701| F01197|    00:44:00|\n",
      "|B6621132707| F01197|    00:54:00|\n",
      "|B6621132698| F01199|    01:03:00|\n",
      "|B6621132713| F01197|    01:04:00|\n",
      "|B6621132704| F01199|    01:13:00|\n",
      "|B6621132710| F01199|    01:23:00|\n",
      "|B6621132719| F01197|    01:24:00|\n",
      "|B6621132725| F01197|    01:34:00|\n",
      "|B6621132716| F01199|    01:38:00|\n",
      "|B6621132722| F01199|    01:53:00|\n",
      "|B6621132731| F01197|    01:54:00|\n",
      "|B6621132737| F01197|    02:04:00|\n",
      "|B6621132728| F01199|    02:08:00|\n",
      "|B6621132743| F01197|    02:19:00|\n",
      "|B6621132734| F01199|    02:23:00|\n",
      "|B6621132749| F01197|    02:34:00|\n",
      "+-----------+-------+------------+\n",
      "only showing top 20 rows\n",
      "\n"
     ]
    }
   ],
   "source": [
    "\n",
    "ejszakai_routes_list = routes.filter(col(\"route_short_name\").isin(ejszakai)).rdd.flatMap(lambda x: x).collect()\n",
    "\n",
    "ejszakai_trips = trips.filter(col(\"route_id\").isin(ejszakai_routes_list))\n",
    "\n",
    "service_id = stops_week.limit(1).select(\"trip_id\").join(ejszakai_trips, \"trip_id\").select(\"service_id\")\n",
    "\n",
    "service_id.join(trips, \"service_id\").join(stops_week, \"trip_id\").select(\"trip_id\", \"stop_id\", \"arrival_time\").sort(\"arrival_time\").show()\n",
    "\n",
    "#stop_trips = stops_week.join(trips, \"trip_id\").show()\n"
   ]
  },
  {
   "cell_type": "code",
   "execution_count": 92,
   "metadata": {},
   "outputs": [],
   "source": [
    "\n",
    "output_file(\"tile.html\")\n",
    "\n",
    "# range bounds supplied in web mercator coordinates\n",
    "p = figure(x_range=(-2000000, 6000000), y_range=(-1000000, 7000000),\n",
    "           x_axis_type=\"mercator\", y_axis_type=\"mercator\")\n",
    "p.add_tile(CARTODBPOSITRON)\n",
    "\n",
    "show(p)"
   ]
  }
 ],
 "metadata": {
  "kernelspec": {
   "display_name": "Python 3",
   "language": "python",
   "name": "python3"
  },
  "language_info": {
   "codemirror_mode": {
    "name": "ipython",
    "version": 3
   },
   "file_extension": ".py",
   "mimetype": "text/x-python",
   "name": "python",
   "nbconvert_exporter": "python",
   "pygments_lexer": "ipython3",
   "version": "3.6.6"
  }
 },
 "nbformat": 4,
 "nbformat_minor": 2
}
